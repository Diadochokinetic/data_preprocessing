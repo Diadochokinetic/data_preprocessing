{
 "cells": [
  {
   "cell_type": "code",
   "execution_count": 1,
   "metadata": {},
   "outputs": [],
   "source": [
    "import pandas as pd\n",
    "import numpy as np\n",
    "import sys\n",
    "sys.path.append('..')\n",
    "import preprocessing.train_test_split as tts"
   ]
  },
  {
   "cell_type": "code",
   "execution_count": 5,
   "metadata": {},
   "outputs": [
    {
     "name": "stdout",
     "output_type": "stream",
     "text": [
      "    col1  col2 col3\n",
      "0      1     1    a\n",
      "1      2     2    b\n",
      "2      3     3    c\n",
      "3      4     4    d\n",
      "4      5     5    e\n",
      "5      6     6    f\n",
      "6      7     7    g\n",
      "7      8     8    h\n",
      "8      9     9    i\n",
      "9     10    10    j\n",
      "10    11    11    a\n",
      "11    12    12    b\n",
      "12    13    13    k\n",
      "    col1  col2\n",
      "5      6     6\n",
      "10    11    11\n",
      "11    12    12\n",
      "7      8     8\n",
      "3      4     4\n",
      "2      3     3\n",
      "0      1     1\n",
      "1      2     2\n",
      "6      7     7\n",
      "8      9     9 \n",
      "     col1  col2\n",
      "12    13    13\n",
      "9     10    10\n",
      "4      5     5 \n",
      "    col3\n",
      "5     f\n",
      "10    a\n",
      "11    b\n",
      "7     h\n",
      "3     d\n",
      "2     c\n",
      "0     a\n",
      "1     b\n",
      "6     g\n",
      "8     i \n",
      "    col3\n",
      "12    k\n",
      "9     j\n",
      "4     e\n"
     ]
    }
   ],
   "source": [
    "df = pd.DataFrame({'col1':[1,2,3,4,5,6,7,8,9,10,11,12,13],'col2':[1,2,3,4,5,6,7,8,9,10,11,12,13], 'col3':['a','b','c','d','e','f','g','h','i','j','a','b','k']})\n",
    "print(df)\n",
    "X = df.iloc[:,:2]\n",
    "y = df.iloc[:,2:]\n",
    "x_train, x_test, y_train, y_test = tts.train_test_split(X, y)\n",
    "print(x_train, '\\n',x_test, '\\n',y_train,'\\n',y_test)"
   ]
  },
  {
   "cell_type": "code",
   "execution_count": null,
   "metadata": {},
   "outputs": [],
   "source": []
  }
 ],
 "metadata": {
  "kernelspec": {
   "display_name": "Python 3",
   "language": "python",
   "name": "python3"
  },
  "language_info": {
   "codemirror_mode": {
    "name": "ipython",
    "version": 3
   },
   "file_extension": ".py",
   "mimetype": "text/x-python",
   "name": "python",
   "nbconvert_exporter": "python",
   "pygments_lexer": "ipython3",
   "version": "3.7.3"
  }
 },
 "nbformat": 4,
 "nbformat_minor": 2
}
