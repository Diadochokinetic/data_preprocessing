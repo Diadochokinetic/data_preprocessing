{
 "cells": [
  {
   "cell_type": "code",
   "execution_count": 1,
   "metadata": {},
   "outputs": [],
   "source": [
    "import pandas as pd\n",
    "import sys\n",
    "sys.path.append('..')\n",
    "from preprocessing import outlier_imputer"
   ]
  },
  {
   "cell_type": "markdown",
   "metadata": {},
   "source": [
    "# no NaN values"
   ]
  },
  {
   "cell_type": "code",
   "execution_count": 2,
   "metadata": {},
   "outputs": [
    {
     "name": "stdout",
     "output_type": "stream",
     "text": [
      "\n",
      "before imputing \n",
      "    a  b  c\n",
      "0  1  1  a\n",
      "1  2  2  b\n",
      "2  3  3  c\n",
      "\n",
      "after imputing \n",
      "    a  b  c\n",
      "0  1  1  a\n",
      "1  2  2  b\n",
      "2  3  3  c\n"
     ]
    }
   ],
   "source": [
    "df = pd.DataFrame({'a':[1,2,3],'b':[1,2,3], 'c':['a','b','c']})\n",
    "print('\\nbefore imputing \\n',df)\n",
    "oi = outlier_imputer.outlier_imputer()\n",
    "oi.fit(df)\n",
    "print('\\nafter imputing \\n',oi.transform(df))"
   ]
  },
  {
   "cell_type": "markdown",
   "metadata": {},
   "source": [
    "## success"
   ]
  },
  {
   "cell_type": "markdown",
   "metadata": {},
   "source": [
    "# NaN values in numeric columns"
   ]
  },
  {
   "cell_type": "code",
   "execution_count": 3,
   "metadata": {},
   "outputs": [
    {
     "name": "stdout",
     "output_type": "stream",
     "text": [
      "\n",
      "before imputing \n",
      "      a  b  c\n",
      "0  1.0  1  a\n",
      "1  2.0  2  b\n",
      "2  NaN  3  c\n",
      "\n",
      "after imputing \n",
      "      a  b  c\n",
      "0  1.0  1  a\n",
      "1  2.0  2  b\n",
      "2  0.9  3  c\n"
     ]
    }
   ],
   "source": [
    "df = pd.DataFrame({'a':[1,2,float('nan')],'b':[1,2,3], 'c':['a','b','c']})\n",
    "print('\\nbefore imputing \\n',df)\n",
    "oi = outlier_imputer.outlier_imputer()\n",
    "oi.fit(df)\n",
    "print('\\nafter imputing \\n',oi.transform(df))"
   ]
  },
  {
   "cell_type": "markdown",
   "metadata": {},
   "source": [
    "## success"
   ]
  },
  {
   "cell_type": "markdown",
   "metadata": {},
   "source": [
    "# NaN values in numeric and string column"
   ]
  },
  {
   "cell_type": "code",
   "execution_count": 4,
   "metadata": {},
   "outputs": [
    {
     "name": "stdout",
     "output_type": "stream",
     "text": [
      "\n",
      "before imputing \n",
      "      a  b    c\n",
      "0  1.0  1    a\n",
      "1  2.0  2    b\n",
      "2  NaN  3  NaN\n",
      "\n",
      "after imputing \n",
      "      a  b    c\n",
      "0  1.0  1    a\n",
      "1  2.0  2    b\n",
      "2  0.9  3  NaN\n"
     ]
    }
   ],
   "source": [
    "df = pd.DataFrame({'a':[1,2,float('nan')],'b':[1,2,3], 'c':['a','b',float('nan')]})\n",
    "print('\\nbefore imputing \\n',df)\n",
    "oi = outlier_imputer.outlier_imputer()\n",
    "oi.fit(df)\n",
    "print('\\nafter imputing \\n',oi.transform(df))"
   ]
  },
  {
   "cell_type": "markdown",
   "metadata": {},
   "source": [
    "## success"
   ]
  },
  {
   "cell_type": "markdown",
   "metadata": {},
   "source": [
    "# NaN values in string column"
   ]
  },
  {
   "cell_type": "code",
   "execution_count": 5,
   "metadata": {},
   "outputs": [
    {
     "name": "stdout",
     "output_type": "stream",
     "text": [
      "\n",
      "before imputing \n",
      "    a  b    c\n",
      "0  1  1    a\n",
      "1  2  2    b\n",
      "2  3  3  NaN\n",
      "\n",
      "after imputing \n",
      "    a  b    c\n",
      "0  1  1    a\n",
      "1  2  2    b\n",
      "2  3  3  NaN\n"
     ]
    }
   ],
   "source": [
    "df = pd.DataFrame({'a':[1,2,3],'b':[1,2,3], 'c':['a','b',float('nan')]})\n",
    "print('\\nbefore imputing \\n',df)\n",
    "oi = outlier_imputer.outlier_imputer()\n",
    "oi.fit(df)\n",
    "print('\\nafter imputing \\n',oi.transform(df))"
   ]
  },
  {
   "cell_type": "markdown",
   "metadata": {},
   "source": [
    "## success"
   ]
  },
  {
   "cell_type": "code",
   "execution_count": null,
   "metadata": {},
   "outputs": [],
   "source": []
  }
 ],
 "metadata": {
  "kernelspec": {
   "display_name": "Python 3",
   "language": "python",
   "name": "python3"
  },
  "language_info": {
   "codemirror_mode": {
    "name": "ipython",
    "version": 3
   },
   "file_extension": ".py",
   "mimetype": "text/x-python",
   "name": "python",
   "nbconvert_exporter": "python",
   "pygments_lexer": "ipython3",
   "version": "3.7.1"
  }
 },
 "nbformat": 4,
 "nbformat_minor": 2
}
