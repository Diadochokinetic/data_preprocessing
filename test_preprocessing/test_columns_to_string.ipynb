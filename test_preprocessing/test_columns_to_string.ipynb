{
 "cells": [
  {
   "cell_type": "code",
   "execution_count": 1,
   "metadata": {},
   "outputs": [],
   "source": [
    "import pandas as pd \n",
    "import numpy as np \n",
    "import sys\n",
    "sys.path.append('..')\n",
    "from preprocessing import columns_to_string"
   ]
  },
  {
   "cell_type": "markdown",
   "metadata": {},
   "source": [
    "# no columns_to_string passed"
   ]
  },
  {
   "cell_type": "code",
   "execution_count": 2,
   "metadata": {},
   "outputs": [
    {
     "name": "stdout",
     "output_type": "stream",
     "text": [
      "\n",
      "dtypes before conversion \n",
      " a    int64\n",
      "b    int64\n",
      "c    int64\n",
      "dtype: object\n",
      "\n",
      " no columns_to_string passed \n",
      "\n",
      "\n",
      " converted columns: 0 \n",
      "\n",
      "\n",
      "dtypes after conversion \n",
      " a    int64\n",
      "b    int64\n",
      "c    int64\n",
      "dtype: object\n"
     ]
    }
   ],
   "source": [
    "df = pd.DataFrame({'a':[1,2,3],'b':[1,2,3], 'c':[1,2,3]})\n",
    "print('\\ndtypes before conversion \\n', df.dtypes)\n",
    "df = columns_to_string.columns_to_string(df)\n",
    "print('\\ndtypes after conversion \\n', df.dtypes)"
   ]
  },
  {
   "cell_type": "markdown",
   "metadata": {},
   "source": [
    "<font color='green'>success</font>"
   ]
  },
  {
   "cell_type": "markdown",
   "metadata": {},
   "source": [
    "# one columns_to_string passed"
   ]
  },
  {
   "cell_type": "code",
   "execution_count": 3,
   "metadata": {},
   "outputs": [
    {
     "name": "stdout",
     "output_type": "stream",
     "text": [
      "\n",
      "dtypes before conversion \n",
      " a    int64\n",
      "b    int64\n",
      "c    int64\n",
      "dtype: object\n",
      "\n",
      " converted columns: 1 \n",
      "\n",
      "\n",
      "dtypes after conversion \n",
      " a    object\n",
      "b     int64\n",
      "c     int64\n",
      "dtype: object\n"
     ]
    }
   ],
   "source": [
    "df = pd.DataFrame({'a':[1,2,3],'b':[1,2,3], 'c':[1,2,3]})\n",
    "print('\\ndtypes before conversion \\n', df.dtypes)\n",
    "df = columns_to_string.columns_to_string(df, 'a')\n",
    "print('\\ndtypes after conversion \\n', df.dtypes)"
   ]
  },
  {
   "cell_type": "markdown",
   "metadata": {},
   "source": [
    "<font color='green'>success</font>"
   ]
  },
  {
   "cell_type": "markdown",
   "metadata": {},
   "source": [
    "# multiple columns_to_string passed"
   ]
  },
  {
   "cell_type": "code",
   "execution_count": 4,
   "metadata": {},
   "outputs": [
    {
     "name": "stdout",
     "output_type": "stream",
     "text": [
      "\n",
      "dtypes before conversion \n",
      " a    int64\n",
      "b    int64\n",
      "c    int64\n",
      "dtype: object\n",
      "\n",
      " converted columns: 2 \n",
      "\n",
      "\n",
      "dtypes after conversion \n",
      " a    object\n",
      "b    object\n",
      "c     int64\n",
      "dtype: object\n"
     ]
    }
   ],
   "source": [
    "df = pd.DataFrame({'a':[1,2,3],'b':[1,2,3], 'c':[1,2,3]})\n",
    "print('\\ndtypes before conversion \\n', df.dtypes)\n",
    "df = columns_to_string.columns_to_string(df, ['a','b'])\n",
    "print('\\ndtypes after conversion \\n', df.dtypes)"
   ]
  },
  {
   "cell_type": "markdown",
   "metadata": {},
   "source": [
    "<font color='green'>success</font>"
   ]
  },
  {
   "cell_type": "markdown",
   "metadata": {},
   "source": [
    "# unknown columns_to_string passed"
   ]
  },
  {
   "cell_type": "code",
   "execution_count": 5,
   "metadata": {},
   "outputs": [
    {
     "name": "stdout",
     "output_type": "stream",
     "text": [
      "\n",
      "dtypes before conversion \n",
      " a    int64\n",
      "b    int64\n",
      "c    int64\n",
      "dtype: object\n",
      "\n",
      " converted columns: 0 \n",
      "\n",
      "\n",
      "dtypes after conversion \n",
      " a    int64\n",
      "b    int64\n",
      "c    int64\n",
      "dtype: object\n"
     ]
    }
   ],
   "source": [
    "df = pd.DataFrame({'a':[1,2,3],'b':[1,2,3], 'c':[1,2,3]})\n",
    "print('\\ndtypes before conversion \\n', df.dtypes)\n",
    "df = columns_to_string.columns_to_string(df, 'd')\n",
    "print('\\ndtypes after conversion \\n', df.dtypes)"
   ]
  },
  {
   "cell_type": "markdown",
   "metadata": {},
   "source": [
    "<font color='green'>success</font>"
   ]
  },
  {
   "cell_type": "markdown",
   "metadata": {},
   "source": [
    "# multiple + unknown columns_to_string passed"
   ]
  },
  {
   "cell_type": "code",
   "execution_count": 6,
   "metadata": {},
   "outputs": [
    {
     "name": "stdout",
     "output_type": "stream",
     "text": [
      "\n",
      "dtypes before conversion \n",
      " a    int64\n",
      "b    int64\n",
      "c    int64\n",
      "dtype: object\n",
      "\n",
      " converted columns: 2 \n",
      "\n",
      "\n",
      "dtypes after conversion \n",
      " a    object\n",
      "b    object\n",
      "c     int64\n",
      "dtype: object\n"
     ]
    }
   ],
   "source": [
    "df = pd.DataFrame({'a':[1,2,3],'b':[1,2,3], 'c':[1,2,3]})\n",
    "print('\\ndtypes before conversion \\n', df.dtypes)\n",
    "df = columns_to_string.columns_to_string(df, ['a','b','d','e'])\n",
    "print('\\ndtypes after conversion \\n', df.dtypes)"
   ]
  },
  {
   "cell_type": "markdown",
   "metadata": {},
   "source": [
    "<font color='green'>success</font>"
   ]
  },
  {
   "cell_type": "markdown",
   "metadata": {},
   "source": [
    "# string columns_to_string passed"
   ]
  },
  {
   "cell_type": "code",
   "execution_count": 7,
   "metadata": {},
   "outputs": [
    {
     "name": "stdout",
     "output_type": "stream",
     "text": [
      "\n",
      "dtypes before conversion \n",
      " a    object\n",
      "b     int64\n",
      "c     int64\n",
      "dtype: object\n",
      "\n",
      " converted columns: 1 \n",
      "\n",
      "\n",
      "dtypes after conversion \n",
      " a    object\n",
      "b     int64\n",
      "c     int64\n",
      "dtype: object\n"
     ]
    }
   ],
   "source": [
    "df = pd.DataFrame({'a':['a','b','c'],'b':[1,2,3], 'c':[1,2,3]})\n",
    "print('\\ndtypes before conversion \\n', df.dtypes)\n",
    "df = columns_to_string.columns_to_string(df, 'a')\n",
    "print('\\ndtypes after conversion \\n', df.dtypes)"
   ]
  },
  {
   "cell_type": "markdown",
   "metadata": {},
   "source": [
    "<font color='green'>success</font>"
   ]
  },
  {
   "cell_type": "code",
   "execution_count": null,
   "metadata": {},
   "outputs": [],
   "source": []
  }
 ],
 "metadata": {
  "kernelspec": {
   "display_name": "Python 3",
   "language": "python",
   "name": "python3"
  },
  "language_info": {
   "codemirror_mode": {
    "name": "ipython",
    "version": 3
   },
   "file_extension": ".py",
   "mimetype": "text/x-python",
   "name": "python",
   "nbconvert_exporter": "python",
   "pygments_lexer": "ipython3",
   "version": "3.7.1"
  }
 },
 "nbformat": 4,
 "nbformat_minor": 2
}
